{
 "cells": [
  {
   "cell_type": "markdown",
   "metadata": {},
   "source": [
    "# Working Main Code"
   ]
  },
  {
   "cell_type": "code",
   "execution_count": 11,
   "metadata": {},
   "outputs": [],
   "source": [
    "\n",
    "import re\n",
    "\n",
    "\n",
    "filename = 'log.txt' \n",
    "with open(filename) as file:\n",
    "    lines = file.readlines()\n",
    "    lines = [line.rstrip() for line in lines]\n",
    "\n",
    "\n"
   ]
  },
  {
   "cell_type": "code",
   "execution_count": 12,
   "metadata": {},
   "outputs": [],
   "source": [
    "class IP_Entry:\n",
    "    def __init__(self, source, destination, port,portnumber):\n",
    "        self.source = source\n",
    "        self.destination = destination\n",
    "        self.port = port\n",
    "        self.portnumber = portnumber\n",
    "    def printself(self):\n",
    "        print(f\"Source: {self.source}, Destination: {self.destination}, Port: {self.port}, PortNumber: {self.portnumber} \\n\")\n",
    "\n",
    "class IP_Occurence:\n",
    "    def __init__(self, ip_number, occurence_number = 0):\n",
    "        self.ip_number = ip_number\n",
    "        self.occurence_number = occurence_number\n",
    "    def printself(self):\n",
    "        print(f\"IP: {self.ip_number}, Occurence: {self.occurence_number} \\n\")\n",
    "      \n",
    "      "
   ]
  },
  {
   "cell_type": "code",
   "execution_count": 13,
   "metadata": {},
   "outputs": [
    {
     "name": "stdout",
     "output_type": "stream",
     "text": [
      "['84.1.119.110', '79.120.134.178']\n",
      "(':', 'tcp', None, '0')\n"
     ]
    }
   ],
   "source": [
    "def find_ips(raw_line_data):\n",
    "    regx = re.compile(r'\\d+\\.\\d+\\.\\d+\\.\\d+')\n",
    "    solution = regx.findall(raw_line_data)\n",
    "    return solution\n",
    "\n",
    "print(find_ips(lines[69]))\n",
    "\n",
    "def find_port(raw_line_data):\n",
    "    regx = re.compile(r'(\\:) (\\w+),?\\s(\\D+)?\\s?(\\d+)')\n",
    "    solution = regx.search(raw_line_data)\n",
    "    if(solution == None):\n",
    "        print(f\"Hiba\")\n",
    "    else:\n",
    "        return solution.groups()\n",
    "\n",
    "print(find_port(lines[68]))"
   ]
  },
  {
   "cell_type": "code",
   "execution_count": 14,
   "metadata": {},
   "outputs": [
    {
     "ename": "IndexError",
     "evalue": "list index out of range",
     "output_type": "error",
     "traceback": [
      "\u001b[1;31m---------------------------------------------------------------------------\u001b[0m",
      "\u001b[1;31mIndexError\u001b[0m                                Traceback (most recent call last)",
      "\u001b[1;32mc:\\Users\\u28o53\\Desktop\\Python\\IP check\\development\\regx_way.ipynb Cell 5'\u001b[0m in \u001b[0;36m<cell line: 3>\u001b[1;34m()\u001b[0m\n\u001b[0;32m      <a href='vscode-notebook-cell:/c%3A/Users/u28o53/Desktop/Python/IP%20check/development/regx_way.ipynb#ch0000003?line=3'>4</a>\u001b[0m     ips \u001b[39m=\u001b[39m find_ips(line)\n\u001b[0;32m      <a href='vscode-notebook-cell:/c%3A/Users/u28o53/Desktop/Python/IP%20check/development/regx_way.ipynb#ch0000003?line=4'>5</a>\u001b[0m     port \u001b[39m=\u001b[39m find_port(line)\n\u001b[1;32m----> <a href='vscode-notebook-cell:/c%3A/Users/u28o53/Desktop/Python/IP%20check/development/regx_way.ipynb#ch0000003?line=5'>6</a>\u001b[0m     ip_list\u001b[39m.\u001b[39mappend(IP_Entry(ips[\u001b[39m0\u001b[39;49m] , ips[\u001b[39m1\u001b[39m] , port[\u001b[39m1\u001b[39m] , port[\u001b[39m3\u001b[39m]))\n\u001b[0;32m      <a href='vscode-notebook-cell:/c%3A/Users/u28o53/Desktop/Python/IP%20check/development/regx_way.ipynb#ch0000003?line=7'>8</a>\u001b[0m \u001b[39mprint\u001b[39m(ip_list[\u001b[39m133\u001b[39m]\u001b[39m.\u001b[39mprintself())\n",
      "\u001b[1;31mIndexError\u001b[0m: list index out of range"
     ]
    }
   ],
   "source": [
    "ip_list = []\n",
    "\n",
    "for line in lines:\n",
    "    ips = find_ips(line)\n",
    "    port = find_port(line)\n",
    "    ip_list.append(IP_Entry(ips[0] , ips[1] , port[1] , port[3]))\n",
    "\n",
    "print(ip_list[133].printself())"
   ]
  },
  {
   "cell_type": "code",
   "execution_count": null,
   "metadata": {},
   "outputs": [
    {
     "name": "stdout",
     "output_type": "stream",
     "text": [
      "['91.83.167.9', '172.217.20.10', '193.227.198.3', '17.188.17.102', '8.8.8.8', '78.131.75.196', '194.149.53.174', '31.13.84.23', '142.250.184.238', '185.63.46.240', '62.201.96.62', '195.228.56.123', '195.228.112.223', '172.217.16.202', '45.134.144.140', '138.199.36.120', '142.251.39.14', '1.1.1.1', '52.168.112.67', '188.172.192.104', '91.83.65.23', '31.13.84.8', '216.58.212.138', '148.6.0.1', '94.21.192.194', '80.94.92.4', '142.250.185.234', '188.143.102.249', '34.107.221.82', '51.195.5.157', '13.246.7.50', '31.13.84.168', '142.250.186.42', '142.250.185.106', '216.58.212.170', '212.92.16.193', '142.250.185.78', '142.250.186.78', '142.93.235.17']\n"
     ]
    }
   ],
   "source": [
    "ip_unique_list = []\n",
    "\n",
    "for element in ip_list:\n",
    "    if(element.source not in ip_unique_list):\n",
    "        ip_unique_list.append(element.source)\n",
    "\n",
    "for element in ip_list:\n",
    "    if(element.destination not in ip_unique_list):\n",
    "        ip_unique_list.append(element.destination)\n",
    "\n",
    "ip_unique_list.remove(\"79.120.134.178\")\n",
    "ip_unique_list.remove(\"84.1.119.110\")\n",
    "\n",
    "print(ip_unique_list)\n",
    "\n"
   ]
  },
  {
   "cell_type": "code",
   "execution_count": null,
   "metadata": {},
   "outputs": [
    {
     "name": "stdout",
     "output_type": "stream",
     "text": [
      "0\n"
     ]
    }
   ],
   "source": [
    "ip_occurence_list = []\n",
    "\n",
    "for element in ip_unique_list:\n",
    "    ip_occurence_list.append(IP_Occurence(element , 0))\n",
    "\n",
    "\n",
    "print(ip_occurence_list[0].occurence_number)"
   ]
  },
  {
   "cell_type": "code",
   "execution_count": null,
   "metadata": {},
   "outputs": [
    {
     "name": "stdout",
     "output_type": "stream",
     "text": [
      "91.83.167.9\n",
      "246\n"
     ]
    }
   ],
   "source": [
    "for occu in ip_occurence_list:\n",
    "    for entry in ip_list:\n",
    "        if(occu.ip_number == entry.source):\n",
    "            occu.occurence_number = occu.occurence_number + 1\n",
    "        if(occu.ip_number == entry.destination):\n",
    "            occu.occurence_number = occu.occurence_number + 1\n",
    "\n",
    "print(ip_occurence_list[0].ip_number)\n",
    "print(ip_occurence_list[0].occurence_number)"
   ]
  },
  {
   "cell_type": "code",
   "execution_count": null,
   "metadata": {},
   "outputs": [
    {
     "name": "stdout",
     "output_type": "stream",
     "text": [
      "IP: 78.131.75.196 , Occurence: 478\n",
      "IP: 194.149.53.174 , Occurence: 375\n",
      "IP: 193.227.198.3 , Occurence: 290\n",
      "IP: 195.228.56.123 , Occurence: 271\n",
      "IP: 185.63.46.240 , Occurence: 265\n",
      "IP: 91.83.167.9 , Occurence: 246\n",
      "IP: 195.228.112.223 , Occurence: 112\n",
      "IP: 62.201.96.62 , Occurence: 94\n",
      "IP: 8.8.8.8 , Occurence: 58\n",
      "IP: 31.13.84.23 , Occurence: 32\n",
      "IP: 172.217.16.202 , Occurence: 29\n",
      "IP: 142.251.39.14 , Occurence: 24\n",
      "IP: 94.21.192.194 , Occurence: 24\n",
      "IP: 52.168.112.67 , Occurence: 21\n",
      "IP: 142.250.186.42 , Occurence: 21\n",
      "IP: 142.250.185.234 , Occurence: 16\n",
      "IP: 17.188.17.102 , Occurence: 13\n",
      "IP: 142.250.186.78 , Occurence: 13\n",
      "IP: 188.143.102.249 , Occurence: 12\n",
      "IP: 138.199.36.120 , Occurence: 10\n",
      "IP: 142.250.184.238 , Occurence: 8\n",
      "IP: 142.250.185.78 , Occurence: 8\n",
      "IP: 216.58.212.138 , Occurence: 7\n",
      "IP: 142.250.185.106 , Occurence: 7\n",
      "IP: 1.1.1.1 , Occurence: 6\n",
      "IP: 188.172.192.104 , Occurence: 6\n",
      "IP: 31.13.84.8 , Occurence: 6\n",
      "IP: 172.217.20.10 , Occurence: 5\n",
      "IP: 34.107.221.82 , Occurence: 4\n",
      "IP: 31.13.84.168 , Occurence: 3\n",
      "IP: 91.83.65.23 , Occurence: 2\n",
      "IP: 148.6.0.1 , Occurence: 2\n",
      "IP: 51.195.5.157 , Occurence: 2\n",
      "IP: 216.58.212.170 , Occurence: 2\n",
      "IP: 212.92.16.193 , Occurence: 2\n",
      "IP: 45.134.144.140 , Occurence: 1\n",
      "IP: 80.94.92.4 , Occurence: 1\n",
      "IP: 13.246.7.50 , Occurence: 1\n",
      "IP: 142.93.235.17 , Occurence: 1\n",
      "\n"
     ]
    }
   ],
   "source": [
    "#import operator\n",
    "#ip_occurence_list.sort(key=operator.attrgetter('occurence_number'))\n",
    "ip_occurence_list.sort(key=lambda x: x.occurence_number, reverse=True)\n",
    "\n",
    "final_solution = \"\"\n",
    "\n",
    "for i in ip_occurence_list:\n",
    "    final_solution = final_solution + f\"IP: {i.ip_number} , Occurence: {i.occurence_number}\\n\"\n",
    "    \n",
    "print(final_solution)"
   ]
  },
  {
   "cell_type": "code",
   "execution_count": null,
   "metadata": {},
   "outputs": [],
   "source": [
    "with open('data.txt', 'w') as f:\n",
    "    f.writelines(final_solution)"
   ]
  },
  {
   "cell_type": "markdown",
   "metadata": {},
   "source": [
    "# Playground"
   ]
  },
  {
   "cell_type": "code",
   "execution_count": null,
   "metadata": {},
   "outputs": [
    {
     "name": "stdout",
     "output_type": "stream",
     "text": [
      "11:44:11.994851 IP 142.250.184.238.443 > 84.1.119.110.57081: UDP, length 37\n",
      "['142.250.184.238', '84.1.119.110']\n"
     ]
    }
   ],
   "source": [
    "print(lines[69])\n",
    "regx = re.compile(r'\\d+\\.\\d+\\.\\d+\\.\\d+')\n",
    "solution = regx.findall(lines[69])\n",
    "\n",
    "print(solution)"
   ]
  },
  {
   "cell_type": "code",
   "execution_count": null,
   "metadata": {},
   "outputs": [
    {
     "name": "stdout",
     "output_type": "stream",
     "text": [
      "11:44:11.994851 IP 142.250.184.238.443 > 84.1.119.110.57081: UDP, length 37\n",
      "(':', 'UDP', 'length ', '37')\n"
     ]
    }
   ],
   "source": [
    "print(lines[69])\n",
    "regx = re.compile(r'(\\:) (\\w+),?\\s(\\D+)?\\s?(\\d+)')\n",
    "solution = regx.search(lines[69])\n",
    "\n",
    "print(solution.groups())"
   ]
  },
  {
   "cell_type": "code",
   "execution_count": null,
   "metadata": {},
   "outputs": [
    {
     "name": "stdout",
     "output_type": "stream",
     "text": [
      "11:44:11.986736 IP 84.1.119.110.10051 > 194.149.53.174.19239: tcp 79\n",
      "(':', 'tcp', None, '79')\n"
     ]
    }
   ],
   "source": [
    "print(lines[68])\n",
    "regx = re.compile(r'(\\:) (\\w+),?\\s(\\D+)?\\s?(\\d+)')\n",
    "solution = regx.search(lines[68])\n",
    "\n",
    "print(solution.groups())"
   ]
  },
  {
   "cell_type": "code",
   "execution_count": null,
   "metadata": {},
   "outputs": [
    {
     "ename": "AttributeError",
     "evalue": "'IP_Entry' object has no attribute 'printEntry'",
     "output_type": "error",
     "traceback": [
      "\u001b[1;31m---------------------------------------------------------------------------\u001b[0m",
      "\u001b[1;31mAttributeError\u001b[0m                            Traceback (most recent call last)",
      "\u001b[1;32m~\\AppData\\Local\\Temp/ipykernel_3348/4034192701.py\u001b[0m in \u001b[0;36m<module>\u001b[1;34m\u001b[0m\n\u001b[0;32m      2\u001b[0m \u001b[0mIP_list\u001b[0m\u001b[1;33m.\u001b[0m\u001b[0mappend\u001b[0m\u001b[1;33m(\u001b[0m\u001b[0mIP_Entry\u001b[0m\u001b[1;33m(\u001b[0m\u001b[1;34m\"1212:2112\"\u001b[0m \u001b[1;33m,\u001b[0m \u001b[1;34m\" 1231:33\"\u001b[0m \u001b[1;33m,\u001b[0m \u001b[1;34m\"tdp\"\u001b[0m \u001b[1;33m,\u001b[0m \u001b[1;34m\"23\"\u001b[0m\u001b[1;33m)\u001b[0m\u001b[1;33m)\u001b[0m\u001b[1;33m\u001b[0m\u001b[1;33m\u001b[0m\u001b[0m\n\u001b[0;32m      3\u001b[0m \u001b[1;33m\u001b[0m\u001b[0m\n\u001b[1;32m----> 4\u001b[1;33m \u001b[0mIP_list\u001b[0m\u001b[1;33m[\u001b[0m\u001b[1;36m0\u001b[0m\u001b[1;33m]\u001b[0m\u001b[1;33m.\u001b[0m\u001b[0mprintEntry\u001b[0m\u001b[1;33m(\u001b[0m\u001b[1;33m)\u001b[0m\u001b[1;33m\u001b[0m\u001b[1;33m\u001b[0m\u001b[0m\n\u001b[0m",
      "\u001b[1;31mAttributeError\u001b[0m: 'IP_Entry' object has no attribute 'printEntry'"
     ]
    }
   ],
   "source": [
    "\n",
    "\n"
   ]
  },
  {
   "cell_type": "code",
   "execution_count": null,
   "metadata": {},
   "outputs": [],
   "source": []
  },
  {
   "cell_type": "code",
   "execution_count": null,
   "metadata": {},
   "outputs": [
    {
     "name": "stdout",
     "output_type": "stream",
     "text": [
      "415-555-4242\n"
     ]
    }
   ],
   "source": [
    "\n",
    "phoneNumRegex = re.compile(r'(\\d\\d\\d-)?\\d\\d\\d-\\d\\d\\d\\d')\n",
    "mo = phoneNumRegex.search('My number is 415-555-4242.')\n",
    "\n",
    "\n",
    "print(mo.group())"
   ]
  },
  {
   "cell_type": "code",
   "execution_count": 15,
   "metadata": {},
   "outputs": [
    {
     "name": "stdout",
     "output_type": "stream",
     "text": [
      "[]\n",
      "None\n"
     ]
    }
   ],
   "source": [
    "test = \"\"\n",
    "\n",
    "print(find_ips(test))\n",
    "print(find_port(test))"
   ]
  }
 ],
 "metadata": {
  "kernelspec": {
   "display_name": "Python 3.10.0 64-bit",
   "language": "python",
   "name": "python3"
  },
  "language_info": {
   "codemirror_mode": {
    "name": "ipython",
    "version": 3
   },
   "file_extension": ".py",
   "mimetype": "text/x-python",
   "name": "python",
   "nbconvert_exporter": "python",
   "pygments_lexer": "ipython3",
   "version": "3.10.0"
  },
  "orig_nbformat": 4,
  "vscode": {
   "interpreter": {
    "hash": "26de051ba29f2982a8de78e945f0abaf191376122a1563185a90213a26c5da77"
   }
  }
 },
 "nbformat": 4,
 "nbformat_minor": 2
}
