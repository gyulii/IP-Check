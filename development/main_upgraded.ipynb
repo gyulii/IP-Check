{
 "cells": [
  {
   "cell_type": "code",
   "execution_count": 2,
   "metadata": {},
   "outputs": [],
   "source": [
    "import pandas as pd\n",
    "# For using RegX\n",
    "import re\n",
    "\n",
    "# To not close cmd automatically\n",
    "import os\n",
    "from traceback import print_tb"
   ]
  },
  {
   "cell_type": "code",
   "execution_count": 35,
   "metadata": {},
   "outputs": [],
   "source": [
    "def find_port(raw_line_data , line_number):\n",
    "    regx = re.compile(r'(\\:) (\\w+),?\\s*(\\D+)?\\s*?(\\d+)')\n",
    "    solution = regx.search(raw_line_data)\n",
    "    if(solution == None):\n",
    "       #print(f\"Line Error ({line_number + 1}): {raw_line_data}\")\n",
    "       pass\n",
    "    else:\n",
    "        return solution.groups()\n",
    "\n",
    "def find_ips(raw_line_data):\n",
    "    regx = re.compile(r'\\d+\\.\\d+\\.\\d+\\.\\d+')\n",
    "    solution = regx.findall(raw_line_data)\n",
    "    return solution"
   ]
  },
  {
   "cell_type": "code",
   "execution_count": 36,
   "metadata": {},
   "outputs": [],
   "source": [
    "\n",
    "\n",
    "\n",
    "sourcefile = 'log.txt' \n",
    "\n",
    "with open(sourcefile) as file:\n",
    "    lines = file.readlines()\n",
    "    lines = [line.rstrip() for line in lines]\n",
    "\n",
    "df = pd.DataFrame.from_dict({'Source': [], 'Destination': [], 'Port': [] , 'Portnumber' : []})\n",
    "\n",
    "for index , line in enumerate(lines):\n",
    "    ips = find_ips(line)\n",
    "    port = find_port(line ,index)\n",
    "    if(len(ips) >= 2 and port != None):\n",
    "        df_temp =  pd.DataFrame.from_dict({'Source': [ips[0]], 'Destination': [ips[1]], 'Port': [ port[1]] , 'Portnumber' : [port[3]]})\n",
    "        df = pd.concat([df, df_temp])\n",
    "    #Create filtered list based on filter.ini >> row"
   ]
  },
  {
   "cell_type": "code",
   "execution_count": 38,
   "metadata": {},
   "outputs": [
    {
     "data": {
      "text/html": [
       "<div>\n",
       "<style scoped>\n",
       "    .dataframe tbody tr th:only-of-type {\n",
       "        vertical-align: middle;\n",
       "    }\n",
       "\n",
       "    .dataframe tbody tr th {\n",
       "        vertical-align: top;\n",
       "    }\n",
       "\n",
       "    .dataframe thead th {\n",
       "        text-align: right;\n",
       "    }\n",
       "</style>\n",
       "<table border=\"1\" class=\"dataframe\">\n",
       "  <thead>\n",
       "    <tr style=\"text-align: right;\">\n",
       "      <th></th>\n",
       "      <th>Source</th>\n",
       "      <th>Destination</th>\n",
       "      <th>Port</th>\n",
       "      <th>Portnumber</th>\n",
       "    </tr>\n",
       "  </thead>\n",
       "  <tbody>\n",
       "    <tr>\n",
       "      <th>count</th>\n",
       "      <td>29016</td>\n",
       "      <td>29016</td>\n",
       "      <td>29016</td>\n",
       "      <td>29016</td>\n",
       "    </tr>\n",
       "    <tr>\n",
       "      <th>unique</th>\n",
       "      <td>200</td>\n",
       "      <td>196</td>\n",
       "      <td>3</td>\n",
       "      <td>681</td>\n",
       "    </tr>\n",
       "    <tr>\n",
       "      <th>top</th>\n",
       "      <td>91.228.167.21</td>\n",
       "      <td>192.168.10.3</td>\n",
       "      <td>tcp</td>\n",
       "      <td>0</td>\n",
       "    </tr>\n",
       "    <tr>\n",
       "      <th>freq</th>\n",
       "      <td>3819</td>\n",
       "      <td>4310</td>\n",
       "      <td>21918</td>\n",
       "      <td>10780</td>\n",
       "    </tr>\n",
       "  </tbody>\n",
       "</table>\n",
       "</div>"
      ],
      "text/plain": [
       "               Source   Destination   Port Portnumber\n",
       "count           29016         29016  29016      29016\n",
       "unique            200           196      3        681\n",
       "top     91.228.167.21  192.168.10.3    tcp          0\n",
       "freq             3819          4310  21918      10780"
      ]
     },
     "execution_count": 38,
     "metadata": {},
     "output_type": "execute_result"
    }
   ],
   "source": [
    "df.describe()"
   ]
  }
 ],
 "metadata": {
  "kernelspec": {
   "display_name": "Python 3.10.0 64-bit",
   "language": "python",
   "name": "python3"
  },
  "language_info": {
   "codemirror_mode": {
    "name": "ipython",
    "version": 3
   },
   "file_extension": ".py",
   "mimetype": "text/x-python",
   "name": "python",
   "nbconvert_exporter": "python",
   "pygments_lexer": "ipython3",
   "version": "3.10.0"
  },
  "orig_nbformat": 4,
  "vscode": {
   "interpreter": {
    "hash": "26de051ba29f2982a8de78e945f0abaf191376122a1563185a90213a26c5da77"
   }
  }
 },
 "nbformat": 4,
 "nbformat_minor": 2
}
