{
 "cells": [
  {
   "cell_type": "code",
   "execution_count": 1,
   "metadata": {},
   "outputs": [],
   "source": [
    "import pandas as pd\n",
    "import numpy as np\n",
    "# For using RegX\n",
    "import re\n",
    "\n",
    "# To not close cmd automatically\n",
    "import os\n",
    "\n",
    "# Logging\n",
    "import logging \n",
    "#logging.basicConfig(level=logging.DEBUG, format=' %(asctime)s - %(levelname)s - %(message)s')\n",
    "\n",
    "logging.basicConfig(filename='debug_test.txt', level=logging.DEBUG, format='%(asctime)s - %(levelname)s - %(message)s' , filemode='w')\n",
    "\n",
    "#logging.disable(logging.DEBUG) \n",
    "\n"
   ]
  },
  {
   "cell_type": "code",
   "execution_count": 65,
   "metadata": {},
   "outputs": [],
   "source": [
    "def find_port(raw_line_data):\n",
    "    regx = re.compile(r'(\\:) (\\w+),?\\s*(\\D+)?\\s*?(\\d+)')\n",
    "    solution = regx.search(raw_line_data)\n",
    "    if(solution != None):\n",
    "        return solution.groups()\n",
    "\n",
    "def find_ips(raw_line_data):\n",
    "    regx = re.compile(r'\\d+\\.\\d+\\.\\d+\\.\\d+')\n",
    "    solution = regx.findall(raw_line_data)\n",
    "    return solution"
   ]
  },
  {
   "cell_type": "code",
   "execution_count": 66,
   "metadata": {},
   "outputs": [],
   "source": [
    "# List of dicts\n",
    "\n",
    "sourcefile = 'log.txt'\n",
    "\n",
    "try:\n",
    "    with open(sourcefile) as file:\n",
    "        lines = file.readlines()\n",
    "        lines = [line.rstrip() for line in lines]\n",
    "except Exception as err:\n",
    "    print(err)\n",
    "    raise\n",
    "\n",
    "ip_list = []\n",
    "\n",
    "for line in lines:\n",
    "    ips = find_ips(line)\n",
    "    port = find_port(line)\n",
    "    if(len(ips) >= 2 and port != None):\n",
    "        temp_dict = {'source' : ips[0] , 'destination' : ips[1] , 'port' : port[1] , 'port_number' : port[3]}\n",
    "        ip_list.append(temp_dict)\n",
    "\n"
   ]
  },
  {
   "cell_type": "code",
   "execution_count": 108,
   "metadata": {},
   "outputs": [
    {
     "data": {
      "text/html": [
       "<div>\n",
       "<style scoped>\n",
       "    .dataframe tbody tr th:only-of-type {\n",
       "        vertical-align: middle;\n",
       "    }\n",
       "\n",
       "    .dataframe tbody tr th {\n",
       "        vertical-align: top;\n",
       "    }\n",
       "\n",
       "    .dataframe thead th {\n",
       "        text-align: right;\n",
       "    }\n",
       "</style>\n",
       "<table border=\"1\" class=\"dataframe\">\n",
       "  <thead>\n",
       "    <tr style=\"text-align: right;\">\n",
       "      <th></th>\n",
       "      <th>source</th>\n",
       "      <th>destination</th>\n",
       "      <th>port</th>\n",
       "      <th>port_number</th>\n",
       "    </tr>\n",
       "  </thead>\n",
       "  <tbody>\n",
       "    <tr>\n",
       "      <th>0</th>\n",
       "      <td>192.168.10.101</td>\n",
       "      <td>171.25.178.74</td>\n",
       "      <td>UDP</td>\n",
       "      <td>270</td>\n",
       "    </tr>\n",
       "    <tr>\n",
       "      <th>2</th>\n",
       "      <td>192.168.10.101</td>\n",
       "      <td>171.25.178.74</td>\n",
       "      <td>UDP</td>\n",
       "      <td>270</td>\n",
       "    </tr>\n",
       "  </tbody>\n",
       "</table>\n",
       "</div>"
      ],
      "text/plain": [
       "           source    destination port port_number\n",
       "0  192.168.10.101  171.25.178.74  UDP         270\n",
       "2  192.168.10.101  171.25.178.74  UDP         270"
      ]
     },
     "execution_count": 108,
     "metadata": {},
     "output_type": "execute_result"
    }
   ],
   "source": [
    "df = pd.DataFrame.from_dict(ip_list)\n",
    "df.head()\n",
    "\n",
    "\n",
    "a  = (df[df[\"destination\"] == \"171.25.178.74\"])\n",
    "\n"
   ]
  },
  {
   "cell_type": "code",
   "execution_count": 68,
   "metadata": {},
   "outputs": [
    {
     "ename": "TypeError",
     "evalue": "find_port() takes 1 positional argument but 2 were given",
     "output_type": "error",
     "traceback": [
      "\u001b[1;31m---------------------------------------------------------------------------\u001b[0m",
      "\u001b[1;31mTypeError\u001b[0m                                 Traceback (most recent call last)",
      "\u001b[1;32mc:\\Users\\u28o53\\Desktop\\Python\\IP check\\development\\main_upgraded.ipynb Cell 5'\u001b[0m in \u001b[0;36m<cell line: 18>\u001b[1;34m()\u001b[0m\n\u001b[0;32m     <a href='vscode-notebook-cell:/c%3A/Users/u28o53/Desktop/Python/IP%20check/development/main_upgraded.ipynb#ch0000002?line=17'>18</a>\u001b[0m \u001b[39mfor\u001b[39;00m index , line \u001b[39min\u001b[39;00m \u001b[39menumerate\u001b[39m(lines):\n\u001b[0;32m     <a href='vscode-notebook-cell:/c%3A/Users/u28o53/Desktop/Python/IP%20check/development/main_upgraded.ipynb#ch0000002?line=18'>19</a>\u001b[0m     ips \u001b[39m=\u001b[39m find_ips(line)\n\u001b[1;32m---> <a href='vscode-notebook-cell:/c%3A/Users/u28o53/Desktop/Python/IP%20check/development/main_upgraded.ipynb#ch0000002?line=19'>20</a>\u001b[0m     port \u001b[39m=\u001b[39m find_port(line ,index)\n\u001b[0;32m     <a href='vscode-notebook-cell:/c%3A/Users/u28o53/Desktop/Python/IP%20check/development/main_upgraded.ipynb#ch0000002?line=20'>21</a>\u001b[0m     \u001b[39mif\u001b[39;00m(\u001b[39mlen\u001b[39m(ips) \u001b[39m>\u001b[39m\u001b[39m=\u001b[39m \u001b[39m2\u001b[39m \u001b[39mand\u001b[39;00m port \u001b[39m!=\u001b[39m \u001b[39mNone\u001b[39;00m):\n\u001b[0;32m     <a href='vscode-notebook-cell:/c%3A/Users/u28o53/Desktop/Python/IP%20check/development/main_upgraded.ipynb#ch0000002?line=21'>22</a>\u001b[0m         df_temp \u001b[39m=\u001b[39m  pd\u001b[39m.\u001b[39mDataFrame\u001b[39m.\u001b[39mfrom_dict({\u001b[39m'\u001b[39m\u001b[39mSource\u001b[39m\u001b[39m'\u001b[39m: [ips[\u001b[39m0\u001b[39m]], \u001b[39m'\u001b[39m\u001b[39mDestination\u001b[39m\u001b[39m'\u001b[39m: [ips[\u001b[39m1\u001b[39m]], \u001b[39m'\u001b[39m\u001b[39mPort\u001b[39m\u001b[39m'\u001b[39m: [ port[\u001b[39m1\u001b[39m]] , \u001b[39m'\u001b[39m\u001b[39mPortnumber\u001b[39m\u001b[39m'\u001b[39m : [port[\u001b[39m3\u001b[39m]]})\n",
      "\u001b[1;31mTypeError\u001b[0m: find_port() takes 1 positional argument but 2 were given"
     ]
    }
   ],
   "source": [
    "\n",
    "\n",
    "\n",
    "sourcefile = 'log.txt' \n",
    "\n",
    "\n",
    "\"\"\" try:\n",
    "    6/0\n",
    "except Exception as err:\n",
    "    print(err)\n",
    "    raise \"\"\"\n",
    "\n",
    "logging.debug('HEY')\n",
    "\n",
    "with open(sourcefile) as file:\n",
    "    lines = file.readlines()\n",
    "    lines = [line.rstrip() for line in lines]\n",
    "\n",
    "df = pd.DataFrame.from_dict({'Source': [], 'Destination': [], 'Port': [] , 'Portnumber' : []})\n",
    "\n",
    "for index , line in enumerate(lines):\n",
    "    ips = find_ips(line)\n",
    "    port = find_port(line ,index)\n",
    "    if(len(ips) >= 2 and port != None):\n",
    "        df_temp =  pd.DataFrame.from_dict({'Source': [ips[0]], 'Destination': [ips[1]], 'Port': [ port[1]] , 'Portnumber' : [port[3]]})\n",
    "        df = pd.concat([df, df_temp])\n",
    "    #Create filtered list based on filter.ini >> row"
   ]
  },
  {
   "cell_type": "code",
   "execution_count": null,
   "metadata": {},
   "outputs": [
    {
     "data": {
      "text/html": [
       "<div>\n",
       "<style scoped>\n",
       "    .dataframe tbody tr th:only-of-type {\n",
       "        vertical-align: middle;\n",
       "    }\n",
       "\n",
       "    .dataframe tbody tr th {\n",
       "        vertical-align: top;\n",
       "    }\n",
       "\n",
       "    .dataframe thead th {\n",
       "        text-align: right;\n",
       "    }\n",
       "</style>\n",
       "<table border=\"1\" class=\"dataframe\">\n",
       "  <thead>\n",
       "    <tr style=\"text-align: right;\">\n",
       "      <th></th>\n",
       "      <th>Source</th>\n",
       "      <th>Destination</th>\n",
       "      <th>Port</th>\n",
       "      <th>Portnumber</th>\n",
       "    </tr>\n",
       "  </thead>\n",
       "  <tbody>\n",
       "    <tr>\n",
       "      <th>count</th>\n",
       "      <td>20</td>\n",
       "      <td>20</td>\n",
       "      <td>20</td>\n",
       "      <td>20</td>\n",
       "    </tr>\n",
       "    <tr>\n",
       "      <th>unique</th>\n",
       "      <td>14</td>\n",
       "      <td>15</td>\n",
       "      <td>2</td>\n",
       "      <td>11</td>\n",
       "    </tr>\n",
       "    <tr>\n",
       "      <th>top</th>\n",
       "      <td>172.16.32.242</td>\n",
       "      <td>192.168.10.2</td>\n",
       "      <td>tcp</td>\n",
       "      <td>0</td>\n",
       "    </tr>\n",
       "    <tr>\n",
       "      <th>freq</th>\n",
       "      <td>3</td>\n",
       "      <td>3</td>\n",
       "      <td>12</td>\n",
       "      <td>7</td>\n",
       "    </tr>\n",
       "  </tbody>\n",
       "</table>\n",
       "</div>"
      ],
      "text/plain": [
       "               Source   Destination Port Portnumber\n",
       "count              20            20   20         20\n",
       "unique             14            15    2         11\n",
       "top     172.16.32.242  192.168.10.2  tcp          0\n",
       "freq                3             3   12          7"
      ]
     },
     "execution_count": 5,
     "metadata": {},
     "output_type": "execute_result"
    }
   ],
   "source": [
    "df.describe()"
   ]
  }
 ],
 "metadata": {
  "kernelspec": {
   "display_name": "Python 3.10.0 ('.env': venv)",
   "language": "python",
   "name": "python3"
  },
  "language_info": {
   "codemirror_mode": {
    "name": "ipython",
    "version": 3
   },
   "file_extension": ".py",
   "mimetype": "text/x-python",
   "name": "python",
   "nbconvert_exporter": "python",
   "pygments_lexer": "ipython3",
   "version": "3.10.0"
  },
  "orig_nbformat": 4,
  "vscode": {
   "interpreter": {
    "hash": "d732e5f2a70a4be37069dadcdf6209ade2a41ad6d7a57c0df268311ede266f61"
   }
  }
 },
 "nbformat": 4,
 "nbformat_minor": 2
}
